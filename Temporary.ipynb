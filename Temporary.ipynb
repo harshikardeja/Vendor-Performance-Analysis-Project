{
 "cells": [
  {
   "cell_type": "code",
   "execution_count": 1,
   "id": "3ddcc3fa-b762-48a6-9fc0-2a8b68fdbe3a",
   "metadata": {},
   "outputs": [],
   "source": [
    "import logging\n",
    "import os\n",
    "\n",
    "\n",
    "logging.basicConfig(\n",
    "    filename= \"logs/temp1.log\",\n",
    "    level = logging.DEBUG,\n",
    "    format= \"%(asctime)s - %(levelname)s - %(message)s\",\n",
    "    filemode =\"a\"\n",
    ")\n",
    "\n",
    "\n",
    "if not os.path.exists('logs/temp1.log'):\n",
    "    with open('logs/temp1.log', 'w') as f:\n",
    "        f.write(\"\")\n",
    "\n",
    "logging.info('Hello')"
   ]
  },
  {
   "cell_type": "code",
   "execution_count": null,
   "id": "379d1e23-8b88-456f-89c1-1b8eea2089bf",
   "metadata": {},
   "outputs": [],
   "source": []
  }
 ],
 "metadata": {
  "kernelspec": {
   "display_name": "Python [conda env:base] *",
   "language": "python",
   "name": "conda-base-py"
  },
  "language_info": {
   "codemirror_mode": {
    "name": "ipython",
    "version": 3
   },
   "file_extension": ".py",
   "mimetype": "text/x-python",
   "name": "python",
   "nbconvert_exporter": "python",
   "pygments_lexer": "ipython3",
   "version": "3.12.7"
  }
 },
 "nbformat": 4,
 "nbformat_minor": 5
}
