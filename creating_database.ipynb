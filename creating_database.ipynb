{
 "cells": [
  {
   "cell_type": "code",
   "execution_count": 1,
   "id": "9fa7d906-09d6-4f50-a251-54c49f0bc0d2",
   "metadata": {},
   "outputs": [],
   "source": [
    "import pandas as pd\n",
    "import os\n",
    "from sqlalchemy import create_engine\n",
    "import logging\n",
    "import time\n",
    "\n",
    "\n",
    "engine = create_engine('sqlite:///inventory.db')\n",
    "\n",
    "\n",
    "logging.basicConfig(\n",
    "    filename= \"logs/ingestion_db.log\",\n",
    "    level = logging.DEBUG,\n",
    "    format= \"%(asctime)s - %(levelname)s - %(message)s\",\n",
    "    filemode =\"a\"\n",
    ")\n",
    "\n",
    "def ingest_db(df, table_name, engine):\n",
    "    df.to_sql(table_name , con = engine, if_exists = 'replace', index= False)\n",
    "\n",
    "def load_raw_data():\n",
    "    '''this function will load the CSVs as dataframe and ingest into db '''\n",
    "    start = time.time()\n",
    "    for file in os.listdir('data'):\n",
    "        if '.csv' in file:\n",
    "            df = pd.read_csv('data/' + file)\n",
    "            logging.info(f'Ingesting {file} in db')\n",
    "            ingest_db(df, file[:-4], engine)\n",
    "    end = time.time()\n",
    "    total_time = (end-start)/60\n",
    "    logging.info('-----Ingestion Complete-----')\n",
    "    logging.info(f'\\nTotal time taken: {total_time} min')\n",
    "\n",
    "if __name__ == '__main__':\n",
    "    load_raw_data()\n"
   ]
  },
  {
   "cell_type": "code",
   "execution_count": null,
   "id": "7ef5076f-760d-4f55-ab18-ed5c1b5532f2",
   "metadata": {},
   "outputs": [],
   "source": []
  },
  {
   "cell_type": "code",
   "execution_count": null,
   "id": "55c0c92a-6921-4cbd-aeda-e543a487fa45",
   "metadata": {},
   "outputs": [],
   "source": []
  },
  {
   "cell_type": "code",
   "execution_count": null,
   "id": "60876f57-b790-412e-8806-ef7517bf96a0",
   "metadata": {},
   "outputs": [],
   "source": []
  },
  {
   "cell_type": "code",
   "execution_count": 35,
   "id": "05d82e3b-3b51-4b95-9f32-523cd87253fd",
   "metadata": {},
   "outputs": [],
   "source": []
  },
  {
   "cell_type": "code",
   "execution_count": null,
   "id": "4430f100-81cc-434c-9bfd-6583dcf26038",
   "metadata": {},
   "outputs": [],
   "source": []
  }
 ],
 "metadata": {
  "kernelspec": {
   "display_name": "Python [conda env:base] *",
   "language": "python",
   "name": "conda-base-py"
  },
  "language_info": {
   "codemirror_mode": {
    "name": "ipython",
    "version": 3
   },
   "file_extension": ".py",
   "mimetype": "text/x-python",
   "name": "python",
   "nbconvert_exporter": "python",
   "pygments_lexer": "ipython3",
   "version": "3.12.7"
  }
 },
 "nbformat": 4,
 "nbformat_minor": 5
}
